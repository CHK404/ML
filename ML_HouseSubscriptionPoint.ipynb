{
  "nbformat": 4,
  "nbformat_minor": 0,
  "metadata": {
    "colab": {
      "provenance": []
    },
    "kernelspec": {
      "name": "python3",
      "display_name": "Python 3"
    },
    "language_info": {
      "name": "python"
    }
  },
  "cells": [
    {
      "cell_type": "code",
      "metadata": {
        "id": "h1idNq-EN2FN"
      },
      "source": [
        "import pandas as pd\n",
        "from sklearn.preprocessing import OneHotEncoder\n",
        "from sklearn.compose import make_column_transformer\n",
        "from sklearn.preprocessing import MinMaxScaler\n",
        "from sklearn.pipeline import make_pipeline\n",
        "import tensorflow as tf\n",
        "tf.random.set_seed(777) #하이퍼파라미터 튜닝을 위해 실행시 마다 변수가 같은 초기값 가지게 하기\n",
        "import numpy as np"
      ],
      "execution_count": null,
      "outputs": []
    },
    {
      "cell_type": "code",
      "metadata": {
        "id": "tdXGC7gEOE2j"
      },
      "source": [
        "from google.colab import files\n",
        "data = files.upload()"
      ],
      "execution_count": null,
      "outputs": []
    },
    {
      "cell_type": "code",
      "metadata": {
        "id": "bhYxrSHHOMxC"
      },
      "source": [
        "train_df = pd.read_excel('cutcut1.xlsx', sheet_name='train')\n",
        "test_df = pd.read_excel('cutcut1.xlsx', sheet_name='test')\n",
        "x_train = train_df.drop(['당첨최소가점'], axis=1)\n",
        "x_test = test_df.drop(['당첨최소가점'], axis=1)\n",
        "y_train = train_df[['당첨최소가점']]\n",
        "y_test = test_df[['당첨최소가점']]\n",
        "print(x_train.head())"
      ],
      "execution_count": null,
      "outputs": []
    },
    {
      "cell_type": "code",
      "metadata": {
        "id": "jjyQrsYROZiv"
      },
      "source": [
        "print(x_train.columns)\n"
      ],
      "execution_count": null,
      "outputs": []
    },
    {
      "cell_type": "code",
      "metadata": {
        "id": "3tLsjNSUI_aN"
      },
      "source": [
        "transformer = make_column_transformer(\n",
        "    (OneHotEncoder(), []),\n",
        "    remainder='passthrough')\n",
        "transformer = make_pipeline(transformer, MinMaxScaler())\n",
        "transformer.fit(x_train)\n",
        "\n",
        "x_train = transformer.transform(x_train)\n",
        "x_test = transformer.transform(x_test)\n"
      ],
      "execution_count": null,
      "outputs": []
    },
    {
      "cell_type": "code",
      "metadata": {
        "id": "MX2A88fcX1JB"
      },
      "source": [
        "print(x_train.shape)\n",
        "print(y_train.shape)\n"
      ],
      "execution_count": null,
      "outputs": []
    },
    {
      "cell_type": "code",
      "metadata": {
        "id": "v6hxpy6KZHIJ"
      },
      "source": [
        "input = tf.keras.layers.Input(shape=(9,))\n",
        "net = tf.keras.layers.Dense(units=426, activation='relu')(input)\n",
        "net = tf.keras.layers.Dense(units=426, activation='relu')(net)\n",
        "net = tf.keras.layers.Dense(units=1)(net)\n",
        "model = tf.keras.models.Model(input, net)\n"
      ],
      "execution_count": null,
      "outputs": []
    },
    {
      "cell_type": "code",
      "metadata": {
        "id": "8UipsLe8Uizr",
        "collapsed": true
      },
      "source": [
        "##########모델 학습 및 검증\n",
        "\n",
        "loss = tf.keras.losses.MeanSquaredError()\n",
        "optimizer = tf.keras.optimizers.Adam(learning_rate=0.01)\n",
        "\n",
        "train_loss = tf.keras.metrics.Mean()\n",
        "test_loss = tf.keras.metrics.Mean()\n",
        "train_summary_writer = tf.summary.create_file_writer('tensorboard/gradecut_model/train') #텐서 보드\n",
        "test_summary_writer = tf.summary.create_file_writer('tensorboard/gradecut_model/test')\n",
        "\n",
        "\n",
        "epochs = 5000\n",
        "for epoch_index in range(epochs):\n",
        "    with tf.GradientTape() as tape:\n",
        "        predictions = model(x_train, training=True)\n",
        "        loss_value = loss(y_train, predictions)\n",
        "    gradients = tape.gradient(loss_value, model.trainable_variables)\n",
        "    optimizer.apply_gradients(zip(gradients, model.trainable_variables))\n",
        "\n",
        "    train_loss.update_state(loss_value)\n",
        "\n",
        "    predictions = model(x_test)\n",
        "    loss_value = loss(y_test, predictions)\n",
        "    test_loss.update_state(loss_value)\n",
        "\n",
        "    print('epoch: {}/{}, train loss: {:.4f}, test loss: {:.4f}'.format(\n",
        "        epoch_index + 1, epochs, train_loss.result().numpy(), test_loss.result().numpy()))\n",
        "\n",
        "    with train_summary_writer.as_default(): #텐서 보드\n",
        "        for v in model.trainable_variables:\n",
        "            tf.summary.histogram(v.name, v, step=epoch_index)\n",
        "        tf.summary.scalar('loss', train_loss.result(), step=epoch_index)\n",
        "    with test_summary_writer.as_default():\n",
        "        tf.summary.scalar('loss', test_loss.result(), step=epoch_index)\n",
        "\n",
        "    train_loss.reset_states()\n",
        "    test_loss.reset_states()\n",
        "\n",
        "'''\n",
        "#내장 루프\n",
        "model.compile(loss='mean_squared_error', optimizer='adam')\n",
        "#model.compile(loss=tf.keras.losses.MeanSquaredError(), optimizer=tf.keras.optimizers.Adam(learning_rate=0.01))\n",
        "\n",
        "model.fit(x_train, y_train, epochs=50, validation_data=(x_test, y_test), callbacks=[tf.keras.callbacks.TensorBoard(log_dir='tensorboard/hyundae_car_price_regression_model', histogram_freq=1)])\n",
        "'''\n",
        "\n",
        "##########모델 예측\n",
        "\n",
        "x_test = [\n",
        "    [59.9883,0.151,0.095,0.285,25,448,62,37,8.19]\n",
        "]\n",
        "x_test = pd.DataFrame(x_test, columns=['평형', '단지에서 역까지의거리(km)(최대,최소 구해서 평균)','공원까지의 거리(km)','학교까지의 거리(km)', '강남까지의 소요시간(분)','도급순위','단지세대수', '공급세대수', '경쟁률' ])\n",
        "x_test = transformer.transform(x_test)\n",
        "\n",
        "\n",
        "y_predict = model.predict(x_test)\n",
        "\n",
        "print(y_predict[0][0]) #"
      ],
      "execution_count": null,
      "outputs": []
    },
    {
      "cell_type": "code",
      "metadata": {
        "id": "oFWS_vnFXSq3"
      },
      "source": [],
      "execution_count": null,
      "outputs": []
    }
  ]
}