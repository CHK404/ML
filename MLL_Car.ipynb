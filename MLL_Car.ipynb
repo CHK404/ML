{
  "nbformat": 4,
  "nbformat_minor": 0,
  "metadata": {
    "colab": {
      "provenance": []
    },
    "kernelspec": {
      "name": "python3",
      "display_name": "Python 3"
    },
    "language_info": {
      "name": "python"
    }
  },
  "cells": [
    {
      "cell_type": "code",
      "metadata": {
        "id": "ThB8BdaNFSZj"
      },
      "source": [
        "import pandas as pd\n",
        "from sklearn.preprocessing import OneHotEncoder\n",
        "from sklearn.compose import make_column_transformer\n",
        "from sklearn.preprocessing import MinMaxScaler\n",
        "from sklearn.pipeline import make_pipeline\n",
        "import tensorflow as tf\n",
        "tf.random.set_seed(777) #하이퍼파라미터 튜닝을 위해 실행시 마다 변수가 같은 초기값 가지게 하기\n",
        "import numpy as np"
      ],
      "execution_count": null,
      "outputs": []
    },
    {
      "cell_type": "code",
      "metadata": {
        "id": "MF17gk_yEeKU"
      },
      "source": [
        "train_df = pd.read_excel('https://github.com/cranberryai/todak_todak_python/blob/master/machine_learning/regression/carprice_E1SUl6b.xlsx?raw=true', sheet_name='train')\n",
        "test_df = pd.read_excel('https://github.com/cranberryai/todak_todak_python/blob/master/machine_learning/regression/carprice_E1SUl6b.xlsx?raw=true', sheet_name='test')"
      ],
      "execution_count": null,
      "outputs": []
    },
    {
      "cell_type": "code",
      "metadata": {
        "id": "9nllbGWLErc3"
      },
      "source": [
        "x_train = train_df.drop(['가격'], axis=1)\n",
        "x_test = test_df.drop(['가격'], axis=1)\n",
        "y_train = train_df[['가격']]\n",
        "y_test = test_df[['가격']]\n",
        "\n",
        "print(x_train.head())"
      ],
      "execution_count": null,
      "outputs": []
    },
    {
      "cell_type": "code",
      "metadata": {
        "id": "P2Ki307MEtev"
      },
      "source": [
        "print(x_train.columns)"
      ],
      "execution_count": null,
      "outputs": []
    },
    {
      "cell_type": "code",
      "metadata": {
        "id": "gteDsVXqEvqy"
      },
      "source": [
        "transformer = make_column_transformer(\n",
        "    (OneHotEncoder(), ['종류', '연료', '변속기']),\n",
        "    remainder='passthrough')\n",
        "transformer = make_pipeline(transformer, MinMaxScaler())\n",
        "transformer.fit(x_train)\n",
        "x_train = transformer.transform(x_train)\n",
        "x_test = transformer.transform(x_test)\n",
        "\n",
        "print(x_train.shape)\n",
        "print(y_train.shape)"
      ],
      "execution_count": null,
      "outputs": []
    },
    {
      "cell_type": "code",
      "metadata": {
        "id": "0RDTUm9yExjl"
      },
      "source": [
        "input = tf.keras.layers.Input(shape=(16,))\n",
        "net = tf.keras.layers.Dense(units=32, activation='relu')(input)\n",
        "net = tf.keras.layers.Dense(units=32, activation='relu')(net)\n",
        "net = tf.keras.layers.Dense(units=1)(net)\n",
        "model = tf.keras.models.Model(input, net)\n"
      ],
      "execution_count": null,
      "outputs": []
    },
    {
      "cell_type": "code",
      "metadata": {
        "id": "9-en1ntHE3K1"
      },
      "source": [
        "loss = tf.keras.losses.MeanSquaredError()\n",
        "optimizer = tf.keras.optimizers.Adam(learning_rate=0.01)\n",
        "\n",
        "train_loss = tf.keras.metrics.Mean()\n",
        "test_loss = tf.keras.metrics.Mean()\n",
        "\n",
        "tf.summary.trace_on(graph=True, profiler=True) #텐서 보드 (그래프 추가)\n",
        "train_summary_writer = tf.summary.create_file_writer('tensorboard/hyundae_car_price_regression_model/train') #텐서 보드\n",
        "test_summary_writer = tf.summary.create_file_writer('tensorboard/hyundae_car_price_regression_model/test')\n"
      ],
      "execution_count": null,
      "outputs": []
    },
    {
      "cell_type": "code",
      "metadata": {
        "id": "0CtNEhQ5E5F9"
      },
      "source": [
        "def train():\n",
        "    with tf.GradientTape() as tape:\n",
        "        predictions = model(x_train, training=True)\n",
        "        loss_value = loss(y_train, predictions)\n",
        "    gradients = tape.gradient(loss_value, model.trainable_variables)\n",
        "    optimizer.apply_gradients(zip(gradients, model.trainable_variables))\n",
        "\n",
        "    train_loss.update_state(loss_value)\n",
        "\n",
        "epochs = 50\n",
        "for epoch_index in range(epochs):\n",
        "    train()\n",
        "\n",
        "    predictions = model(x_test)\n",
        "    loss_value = loss(y_test, predictions)\n",
        "    test_loss.update_state(loss_value)\n",
        "\n",
        "    print('epoch: {}/{}, train loss: {:.4f}, test loss: {:.4f}'.format(\n",
        "        epoch_index + 1, epochs, train_loss.result().numpy(), test_loss.result().numpy()))\n",
        "\n",
        "    with train_summary_writer.as_default(): #텐서 보드\n",
        "        for v in model.trainable_variables:\n",
        "            tf.summary.histogram(v.name, v, step=epoch_index)\n",
        "        tf.summary.scalar('loss', train_loss.result(), step=epoch_index)\n",
        "    with test_summary_writer.as_default():\n",
        "        tf.summary.scalar('loss', test_loss.result(), step=epoch_index)\n",
        "\n",
        "    train_loss.reset_states()\n",
        "    test_loss.reset_states()\n",
        "\n",
        "with train_summary_writer.as_default(): #텐서 보드 (그래프 추가)\n",
        "  tf.summary.trace_export(\n",
        "      name='graph',\n",
        "      step=0,\n",
        "      profiler_outdir='tensorboard/hyundae_car_price_regression_model/train')"
      ],
      "execution_count": null,
      "outputs": []
    },
    {
      "cell_type": "code",
      "metadata": {
        "id": "I81TXVXAE-d-"
      },
      "source": [
        "model.compile(loss='mean_squared_error', optimizer='adam')\n",
        "#model.compile(loss=tf.keras.losses.MeanSquaredError(), optimizer=tf.keras.optimizers.Adam(learning_rate=0.01))\n",
        "\n",
        "model.fit(x_train, y_train, epochs=50, validation_data=(x_test, y_test), callbacks=[tf.keras.callbacks.TensorBoard(log_dir='tensorboard/hyundae_car_price_regression_model', histogram_freq=1)])"
      ],
      "execution_count": null,
      "outputs": []
    },
    {
      "cell_type": "code",
      "metadata": {
        "id": "BPmHSrEsFBbZ"
      },
      "source": [
        "x_test = [\n",
        "    [1999, '대형', 6.8, 159, 25, 'LPG', 0, 2359, 1935, '수동']\n",
        "]\n",
        "x_test = pd.DataFrame(x_test, columns=['년식', '종류', '연비', '마력', '토크', '연료', '하이브리드', '배기량', '중량', '변속기'])\n",
        "x_test = transformer.transform(x_test)\n",
        "\n",
        "y_predict = model.predict(x_test)\n",
        "\n",
        "print(y_predict[0][0])"
      ],
      "execution_count": null,
      "outputs": []
    },
    {
      "cell_type": "code",
      "metadata": {
        "id": "N6kjO_reFHlH"
      },
      "source": [],
      "execution_count": null,
      "outputs": []
    }
  ]
}