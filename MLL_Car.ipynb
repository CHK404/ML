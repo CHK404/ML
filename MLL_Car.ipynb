{
  "nbformat": 4,
  "nbformat_minor": 0,
  "metadata": {
    "colab": {
      "provenance": [],
      "include_colab_link": true
    },
    "kernelspec": {
      "name": "python3",
      "display_name": "Python 3"
    },
    "language_info": {
      "name": "python"
    }
  },
  "cells": [
    {
      "cell_type": "markdown",
      "metadata": {
        "id": "view-in-github",
        "colab_type": "text"
      },
      "source": [
        "<a href=\"https://colab.research.google.com/github/CHK404/ML/blob/main/MLL_Car.ipynb\" target=\"_parent\"><img src=\"https://colab.research.google.com/assets/colab-badge.svg\" alt=\"Open In Colab\"/></a>"
      ]
    },
    {
      "cell_type": "code",
      "metadata": {
        "id": "ThB8BdaNFSZj"
      },
      "source": [
        "import pandas as pd\n",
        "from sklearn.preprocessing import OneHotEncoder\n",
        "from sklearn.compose import make_column_transformer\n",
        "from sklearn.preprocessing import MinMaxScaler\n",
        "from sklearn.pipeline import make_pipeline\n",
        "import tensorflow as tf\n",
        "tf.random.set_seed(777) #하이퍼파라미터 튜닝을 위해 실행시 마다 변수가 같은 초기값 가지게 하기\n",
        "import numpy as np"
      ],
      "execution_count": null,
      "outputs": []
    },
    {
      "cell_type": "code",
      "metadata": {
        "id": "MF17gk_yEeKU"
      },
      "source": [
        "train_df = pd.read_excel('https://github.com/cranberryai/todak_todak_python/blob/master/machine_learning/regression/carprice_E1SUl6b.xlsx?raw=true', sheet_name='train')\n",
        "test_df = pd.read_excel('https://github.com/cranberryai/todak_todak_python/blob/master/machine_learning/regression/carprice_E1SUl6b.xlsx?raw=true', sheet_name='test')"
      ],
      "execution_count": null,
      "outputs": []
    },
    {
      "cell_type": "code",
      "metadata": {
        "colab": {
          "base_uri": "https://localhost:8080/"
        },
        "id": "9nllbGWLErc3",
        "outputId": "b0984e94-cca2-4376-edc1-0418ccb51820"
      },
      "source": [
        "x_train = train_df.drop(['가격'], axis=1)\n",
        "x_test = test_df.drop(['가격'], axis=1)\n",
        "y_train = train_df[['가격']]\n",
        "y_test = test_df[['가격']]\n",
        "\n",
        "print(x_train.head())"
      ],
      "execution_count": null,
      "outputs": [
        {
          "output_type": "stream",
          "text": [
            "     년식   종류    연비   마력    토크   연료  하이브리드   배기량    중량 변속기\n",
            "0  2015  준중형  11.8  172  21.0  가솔린      0  1999  1300  자동\n",
            "1  2015  준중형  12.3  204  27.0  가솔린      0  1591  1300  자동\n",
            "2  2015   소형  15.0  100  13.6  가솔린      0  1368  1035  수동\n",
            "3  2014   소형  14.0  140  17.0  가솔린      0  1591  1090  자동\n",
            "4  2015   대형   9.6  175  46.0   디젤      0  2497  1990  자동\n"
          ],
          "name": "stdout"
        }
      ]
    },
    {
      "cell_type": "code",
      "metadata": {
        "colab": {
          "base_uri": "https://localhost:8080/"
        },
        "id": "P2Ki307MEtev",
        "outputId": "54cbc6ea-23b0-4e6a-f22b-2cd67668110f"
      },
      "source": [
        "print(x_train.columns)"
      ],
      "execution_count": null,
      "outputs": [
        {
          "output_type": "stream",
          "text": [
            "Index(['년식', '종류', '연비', '마력', '토크', '연료', '하이브리드', '배기량', '중량', '변속기'], dtype='object')\n"
          ],
          "name": "stdout"
        }
      ]
    },
    {
      "cell_type": "code",
      "metadata": {
        "colab": {
          "base_uri": "https://localhost:8080/"
        },
        "id": "gteDsVXqEvqy",
        "outputId": "23d5f55e-fbbc-4445-fd15-9eefa59299b6"
      },
      "source": [
        "transformer = make_column_transformer(\n",
        "    (OneHotEncoder(), ['종류', '연료', '변속기']),\n",
        "    remainder='passthrough')\n",
        "transformer = make_pipeline(transformer, MinMaxScaler())\n",
        "transformer.fit(x_train)\n",
        "x_train = transformer.transform(x_train)\n",
        "x_test = transformer.transform(x_test)\n",
        "\n",
        "print(x_train.shape)\n",
        "print(y_train.shape)"
      ],
      "execution_count": null,
      "outputs": [
        {
          "output_type": "stream",
          "text": [
            "(71, 16)\n",
            "(71, 1)\n"
          ],
          "name": "stdout"
        }
      ]
    },
    {
      "cell_type": "code",
      "metadata": {
        "id": "0RDTUm9yExjl"
      },
      "source": [
        "input = tf.keras.layers.Input(shape=(16,))\n",
        "net = tf.keras.layers.Dense(units=32, activation='relu')(input)\n",
        "net = tf.keras.layers.Dense(units=32, activation='relu')(net)\n",
        "net = tf.keras.layers.Dense(units=1)(net)\n",
        "model = tf.keras.models.Model(input, net)\n"
      ],
      "execution_count": null,
      "outputs": []
    },
    {
      "cell_type": "code",
      "metadata": {
        "colab": {
          "base_uri": "https://localhost:8080/"
        },
        "id": "9-en1ntHE3K1",
        "outputId": "64d2a216-3369-410c-cfc9-c7ee192fecc4"
      },
      "source": [
        "loss = tf.keras.losses.MeanSquaredError()\n",
        "optimizer = tf.keras.optimizers.Adam(learning_rate=0.01)\n",
        "\n",
        "train_loss = tf.keras.metrics.Mean()\n",
        "test_loss = tf.keras.metrics.Mean()\n",
        "\n",
        "tf.summary.trace_on(graph=True, profiler=True) #텐서 보드 (그래프 추가)\n",
        "train_summary_writer = tf.summary.create_file_writer('tensorboard/hyundae_car_price_regression_model/train') #텐서 보드\n",
        "test_summary_writer = tf.summary.create_file_writer('tensorboard/hyundae_car_price_regression_model/test')\n"
      ],
      "execution_count": null,
      "outputs": [
        {
          "output_type": "stream",
          "text": [
            "WARNING:tensorflow:From /usr/local/lib/python3.7/dist-packages/tensorflow/python/ops/summary_ops_v2.py:1297: start (from tensorflow.python.eager.profiler) is deprecated and will be removed after 2020-07-01.\n",
            "Instructions for updating:\n",
            "use `tf.profiler.experimental.start` instead.\n"
          ],
          "name": "stdout"
        }
      ]
    },
    {
      "cell_type": "code",
      "metadata": {
        "colab": {
          "base_uri": "https://localhost:8080/"
        },
        "id": "0CtNEhQ5E5F9",
        "outputId": "8e22593a-8bd3-46e7-a29e-5b1fbcd3ec78"
      },
      "source": [
        "def train():\n",
        "    with tf.GradientTape() as tape:\n",
        "        predictions = model(x_train, training=True)\n",
        "        loss_value = loss(y_train, predictions)\n",
        "    gradients = tape.gradient(loss_value, model.trainable_variables)\n",
        "    optimizer.apply_gradients(zip(gradients, model.trainable_variables))\n",
        "\n",
        "    train_loss.update_state(loss_value)\n",
        "\n",
        "epochs = 50\n",
        "for epoch_index in range(epochs):\n",
        "    train()\n",
        "\n",
        "    predictions = model(x_test)\n",
        "    loss_value = loss(y_test, predictions)\n",
        "    test_loss.update_state(loss_value)\n",
        "\n",
        "    print('epoch: {}/{}, train loss: {:.4f}, test loss: {:.4f}'.format(\n",
        "        epoch_index + 1, epochs, train_loss.result().numpy(), test_loss.result().numpy()))\n",
        "\n",
        "    with train_summary_writer.as_default(): #텐서 보드\n",
        "        for v in model.trainable_variables:\n",
        "            tf.summary.histogram(v.name, v, step=epoch_index)\n",
        "        tf.summary.scalar('loss', train_loss.result(), step=epoch_index)\n",
        "    with test_summary_writer.as_default():\n",
        "        tf.summary.scalar('loss', test_loss.result(), step=epoch_index)\n",
        "\n",
        "    train_loss.reset_states()\n",
        "    test_loss.reset_states()\n",
        "\n",
        "with train_summary_writer.as_default(): #텐서 보드 (그래프 추가)\n",
        "  tf.summary.trace_export(\n",
        "      name='graph',\n",
        "      step=0,\n",
        "      profiler_outdir='tensorboard/hyundae_car_price_regression_model/train')"
      ],
      "execution_count": null,
      "outputs": [
        {
          "output_type": "stream",
          "text": [
            "epoch: 1/50, train loss: 8282718.5000, test loss: 12629320.0000\n",
            "epoch: 2/50, train loss: 8280398.5000, test loss: 12626412.0000\n",
            "epoch: 3/50, train loss: 8277697.0000, test loss: 12622891.0000\n",
            "epoch: 4/50, train loss: 8274466.5000, test loss: 12618597.0000\n",
            "epoch: 5/50, train loss: 8270496.5000, test loss: 12613357.0000\n",
            "epoch: 6/50, train loss: 8265645.0000, test loss: 12607050.0000\n",
            "epoch: 7/50, train loss: 8259736.5000, test loss: 12599360.0000\n",
            "epoch: 8/50, train loss: 8252509.5000, test loss: 12590124.0000\n",
            "epoch: 9/50, train loss: 8243820.0000, test loss: 12579251.0000\n",
            "epoch: 10/50, train loss: 8233560.5000, test loss: 12566481.0000\n",
            "epoch: 11/50, train loss: 8221481.5000, test loss: 12551529.0000\n",
            "epoch: 12/50, train loss: 8207397.0000, test loss: 12534329.0000\n",
            "epoch: 13/50, train loss: 8191203.0000, test loss: 12514709.0000\n",
            "epoch: 14/50, train loss: 8172728.0000, test loss: 12492440.0000\n",
            "epoch: 15/50, train loss: 8151712.5000, test loss: 12467289.0000\n",
            "epoch: 16/50, train loss: 8127887.5000, test loss: 12438961.0000\n",
            "epoch: 17/50, train loss: 8101040.5000, test loss: 12406956.0000\n",
            "epoch: 18/50, train loss: 8070847.0000, test loss: 12371228.0000\n",
            "epoch: 19/50, train loss: 8037103.0000, test loss: 12331415.0000\n",
            "epoch: 20/50, train loss: 7999453.5000, test loss: 12287091.0000\n",
            "epoch: 21/50, train loss: 7957645.5000, test loss: 12238049.0000\n",
            "epoch: 22/50, train loss: 7911422.0000, test loss: 12183865.0000\n",
            "epoch: 23/50, train loss: 7860359.0000, test loss: 12124305.0000\n",
            "epoch: 24/50, train loss: 7804184.5000, test loss: 12059097.0000\n",
            "epoch: 25/50, train loss: 7742634.5000, test loss: 11987953.0000\n",
            "epoch: 26/50, train loss: 7675464.0000, test loss: 11910567.0000\n",
            "epoch: 27/50, train loss: 7602419.5000, test loss: 11826617.0000\n",
            "epoch: 28/50, train loss: 7523217.0000, test loss: 11735852.0000\n",
            "epoch: 29/50, train loss: 7437590.5000, test loss: 11637966.0000\n",
            "epoch: 30/50, train loss: 7345232.0000, test loss: 11532657.0000\n",
            "epoch: 31/50, train loss: 7245872.0000, test loss: 11419662.0000\n",
            "epoch: 32/50, train loss: 7139296.5000, test loss: 11298769.0000\n",
            "epoch: 33/50, train loss: 7025299.5000, test loss: 11169719.0000\n",
            "epoch: 34/50, train loss: 6903685.5000, test loss: 11032315.0000\n",
            "epoch: 35/50, train loss: 6774284.0000, test loss: 10886453.0000\n",
            "epoch: 36/50, train loss: 6637023.5000, test loss: 10732030.0000\n",
            "epoch: 37/50, train loss: 6491776.5000, test loss: 10569019.0000\n",
            "epoch: 38/50, train loss: 6338491.5000, test loss: 10397425.0000\n",
            "epoch: 39/50, train loss: 6177234.0000, test loss: 10216992.0000\n",
            "epoch: 40/50, train loss: 6008038.0000, test loss: 10027961.0000\n",
            "epoch: 41/50, train loss: 5831020.0000, test loss: 9830609.0000\n",
            "epoch: 42/50, train loss: 5646416.0000, test loss: 9625343.0000\n",
            "epoch: 43/50, train loss: 5454665.0000, test loss: 9412558.0000\n",
            "epoch: 44/50, train loss: 5256217.5000, test loss: 9192759.0000\n",
            "epoch: 45/50, train loss: 5051606.5000, test loss: 8966558.0000\n",
            "epoch: 46/50, train loss: 4841475.5000, test loss: 8734691.0000\n",
            "epoch: 47/50, train loss: 4626585.0000, test loss: 8498020.0000\n",
            "epoch: 48/50, train loss: 4407822.5000, test loss: 8257531.0000\n",
            "epoch: 49/50, train loss: 4186198.5000, test loss: 8014350.5000\n",
            "epoch: 50/50, train loss: 3962861.0000, test loss: 7769739.5000\n",
            "WARNING:tensorflow:From /usr/local/lib/python3.7/dist-packages/tensorflow/python/ops/summary_ops_v2.py:1353: stop (from tensorflow.python.eager.profiler) is deprecated and will be removed after 2020-07-01.\n",
            "Instructions for updating:\n",
            "use `tf.profiler.experimental.stop` instead.\n",
            "WARNING:tensorflow:From /usr/local/lib/python3.7/dist-packages/tensorflow/python/ops/summary_ops_v2.py:1353: save (from tensorflow.python.eager.profiler) is deprecated and will be removed after 2020-07-01.\n",
            "Instructions for updating:\n",
            "`tf.python.eager.profiler` has deprecated, use `tf.profiler` instead.\n",
            "WARNING:tensorflow:From /usr/local/lib/python3.7/dist-packages/tensorflow/python/eager/profiler.py:151: maybe_create_event_file (from tensorflow.python.eager.profiler) is deprecated and will be removed after 2020-07-01.\n",
            "Instructions for updating:\n",
            "`tf.python.eager.profiler` has deprecated, use `tf.profiler` instead.\n"
          ],
          "name": "stdout"
        }
      ]
    },
    {
      "cell_type": "code",
      "metadata": {
        "colab": {
          "base_uri": "https://localhost:8080/"
        },
        "id": "I81TXVXAE-d-",
        "outputId": "8e2f7a14-52ad-4948-e5fa-0f84ee71ea95"
      },
      "source": [
        "model.compile(loss='mean_squared_error', optimizer='adam')\n",
        "#model.compile(loss=tf.keras.losses.MeanSquaredError(), optimizer=tf.keras.optimizers.Adam(learning_rate=0.01))\n",
        "\n",
        "model.fit(x_train, y_train, epochs=50, validation_data=(x_test, y_test), callbacks=[tf.keras.callbacks.TensorBoard(log_dir='tensorboard/hyundae_car_price_regression_model', histogram_freq=1)])"
      ],
      "execution_count": null,
      "outputs": [
        {
          "output_type": "stream",
          "text": [
            "Epoch 1/50\n",
            "3/3 [==============================] - 1s 247ms/step - loss: 4058860.6250 - val_loss: 7720731.5000\n",
            "Epoch 2/50\n",
            "3/3 [==============================] - 0s 27ms/step - loss: 4273700.1875 - val_loss: 7672849.5000\n",
            "Epoch 3/50\n",
            "3/3 [==============================] - 0s 27ms/step - loss: 3187439.3125 - val_loss: 7624839.0000\n",
            "Epoch 4/50\n",
            "3/3 [==============================] - 0s 27ms/step - loss: 3224275.8125 - val_loss: 7576288.0000\n",
            "Epoch 5/50\n",
            "3/3 [==============================] - 0s 31ms/step - loss: 4076796.7500 - val_loss: 7527520.0000\n",
            "Epoch 6/50\n",
            "3/3 [==============================] - 0s 26ms/step - loss: 3467317.0625 - val_loss: 7479457.0000\n",
            "Epoch 7/50\n",
            "3/3 [==============================] - 0s 25ms/step - loss: 3058665.4375 - val_loss: 7433056.0000\n",
            "Epoch 8/50\n",
            "3/3 [==============================] - 0s 26ms/step - loss: 3077351.0000 - val_loss: 7385769.0000\n",
            "Epoch 9/50\n",
            "3/3 [==============================] - 0s 26ms/step - loss: 3803288.1875 - val_loss: 7338162.0000\n",
            "Epoch 10/50\n",
            "3/3 [==============================] - 0s 28ms/step - loss: 3740914.6875 - val_loss: 7290627.0000\n",
            "Epoch 11/50\n",
            "3/3 [==============================] - 0s 25ms/step - loss: 2886653.5000 - val_loss: 7242993.5000\n",
            "Epoch 12/50\n",
            "3/3 [==============================] - 0s 28ms/step - loss: 3243728.3750 - val_loss: 7194234.0000\n",
            "Epoch 13/50\n",
            "3/3 [==============================] - 0s 27ms/step - loss: 3582310.0000 - val_loss: 7146702.5000\n",
            "Epoch 14/50\n",
            "3/3 [==============================] - 0s 22ms/step - loss: 3454755.5000 - val_loss: 7099998.0000\n",
            "Epoch 15/50\n",
            "3/3 [==============================] - 0s 25ms/step - loss: 3422563.3125 - val_loss: 7053568.5000\n",
            "Epoch 16/50\n",
            "3/3 [==============================] - 0s 26ms/step - loss: 3079613.8750 - val_loss: 7007083.0000\n",
            "Epoch 17/50\n",
            "3/3 [==============================] - 0s 26ms/step - loss: 2909548.1250 - val_loss: 6961918.5000\n",
            "Epoch 18/50\n",
            "3/3 [==============================] - 0s 28ms/step - loss: 3382251.2500 - val_loss: 6917540.5000\n",
            "Epoch 19/50\n",
            "3/3 [==============================] - 0s 29ms/step - loss: 3478905.1875 - val_loss: 6872723.5000\n",
            "Epoch 20/50\n",
            "3/3 [==============================] - 0s 28ms/step - loss: 2273576.2188 - val_loss: 6827927.5000\n",
            "Epoch 21/50\n",
            "3/3 [==============================] - 0s 29ms/step - loss: 2610841.5312 - val_loss: 6781499.5000\n",
            "Epoch 22/50\n",
            "3/3 [==============================] - 0s 27ms/step - loss: 2780795.8750 - val_loss: 6735888.5000\n",
            "Epoch 23/50\n",
            "3/3 [==============================] - 0s 26ms/step - loss: 2906366.8125 - val_loss: 6691136.5000\n",
            "Epoch 24/50\n",
            "3/3 [==============================] - 0s 24ms/step - loss: 3041193.1250 - val_loss: 6644639.5000\n",
            "Epoch 25/50\n",
            "3/3 [==============================] - 0s 22ms/step - loss: 2986701.8125 - val_loss: 6598348.5000\n",
            "Epoch 26/50\n",
            "3/3 [==============================] - 0s 31ms/step - loss: 3031669.7500 - val_loss: 6552011.5000\n",
            "Epoch 27/50\n",
            "3/3 [==============================] - 0s 30ms/step - loss: 2940171.3125 - val_loss: 6507221.0000\n",
            "Epoch 28/50\n",
            "3/3 [==============================] - 0s 26ms/step - loss: 2024479.1875 - val_loss: 6462782.5000\n",
            "Epoch 29/50\n",
            "3/3 [==============================] - 0s 28ms/step - loss: 2886122.0000 - val_loss: 6417345.0000\n",
            "Epoch 30/50\n",
            "3/3 [==============================] - 0s 25ms/step - loss: 2169813.7812 - val_loss: 6374342.0000\n",
            "Epoch 31/50\n",
            "3/3 [==============================] - 0s 25ms/step - loss: 2231215.4375 - val_loss: 6331353.5000\n",
            "Epoch 32/50\n",
            "3/3 [==============================] - 0s 29ms/step - loss: 2259779.1875 - val_loss: 6289136.0000\n",
            "Epoch 33/50\n",
            "3/3 [==============================] - 0s 26ms/step - loss: 2229285.9375 - val_loss: 6248466.0000\n",
            "Epoch 34/50\n",
            "3/3 [==============================] - 0s 29ms/step - loss: 2729207.1875 - val_loss: 6208831.0000\n",
            "Epoch 35/50\n",
            "3/3 [==============================] - 0s 26ms/step - loss: 2759754.8750 - val_loss: 6170893.5000\n",
            "Epoch 36/50\n",
            "3/3 [==============================] - 0s 23ms/step - loss: 1630430.8906 - val_loss: 6134379.0000\n",
            "Epoch 37/50\n",
            "3/3 [==============================] - 0s 25ms/step - loss: 2082838.9375 - val_loss: 6096170.0000\n",
            "Epoch 38/50\n",
            "3/3 [==============================] - 0s 25ms/step - loss: 1894418.4062 - val_loss: 6059670.5000\n",
            "Epoch 39/50\n",
            "3/3 [==============================] - 0s 26ms/step - loss: 1913504.8594 - val_loss: 6024100.0000\n",
            "Epoch 40/50\n",
            "3/3 [==============================] - 0s 30ms/step - loss: 2552591.1250 - val_loss: 5989581.5000\n",
            "Epoch 41/50\n",
            "3/3 [==============================] - 0s 31ms/step - loss: 2539429.9375 - val_loss: 5956017.5000\n",
            "Epoch 42/50\n",
            "3/3 [==============================] - 0s 30ms/step - loss: 1865026.2188 - val_loss: 5923317.5000\n",
            "Epoch 43/50\n",
            "3/3 [==============================] - 0s 28ms/step - loss: 1750300.1406 - val_loss: 5891921.0000\n",
            "Epoch 44/50\n",
            "3/3 [==============================] - 0s 24ms/step - loss: 2423330.6250 - val_loss: 5861038.5000\n",
            "Epoch 45/50\n",
            "3/3 [==============================] - 0s 24ms/step - loss: 1742223.6875 - val_loss: 5831060.0000\n",
            "Epoch 46/50\n",
            "3/3 [==============================] - 0s 23ms/step - loss: 1745397.3438 - val_loss: 5802123.0000\n",
            "Epoch 47/50\n",
            "3/3 [==============================] - 0s 25ms/step - loss: 1786057.6562 - val_loss: 5774506.5000\n",
            "Epoch 48/50\n",
            "3/3 [==============================] - 0s 29ms/step - loss: 1788532.5312 - val_loss: 5747451.5000\n",
            "Epoch 49/50\n",
            "3/3 [==============================] - 0s 27ms/step - loss: 2414430.6875 - val_loss: 5721019.0000\n",
            "Epoch 50/50\n",
            "3/3 [==============================] - 0s 29ms/step - loss: 1652774.4062 - val_loss: 5696216.5000\n"
          ],
          "name": "stdout"
        },
        {
          "output_type": "execute_result",
          "data": {
            "text/plain": [
              "<tensorflow.python.keras.callbacks.History at 0x7f159a08aad0>"
            ]
          },
          "metadata": {
            "tags": []
          },
          "execution_count": 10
        }
      ]
    },
    {
      "cell_type": "code",
      "metadata": {
        "colab": {
          "base_uri": "https://localhost:8080/"
        },
        "id": "BPmHSrEsFBbZ",
        "outputId": "58e11ab2-53a5-4aef-a015-35bd3047af60"
      },
      "source": [
        "x_test = [\n",
        "    [1999, '대형', 6.8, 159, 25, 'LPG', 0, 2359, 1935, '수동']\n",
        "]\n",
        "x_test = pd.DataFrame(x_test, columns=['년식', '종류', '연비', '마력', '토크', '연료', '하이브리드', '배기량', '중량', '변속기'])\n",
        "x_test = transformer.transform(x_test)\n",
        "\n",
        "y_predict = model.predict(x_test)\n",
        "\n",
        "print(y_predict[0][0])"
      ],
      "execution_count": null,
      "outputs": [
        {
          "output_type": "stream",
          "text": [
            "1614.7451\n"
          ],
          "name": "stdout"
        }
      ]
    },
    {
      "cell_type": "code",
      "metadata": {
        "id": "N6kjO_reFHlH"
      },
      "source": [],
      "execution_count": null,
      "outputs": []
    }
  ]
}